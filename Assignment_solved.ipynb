{
  "nbformat": 4,
  "nbformat_minor": 0,
  "metadata": {
    "colab": {
      "name": "Assignment_solved.ipynb",
      "provenance": [],
      "collapsed_sections": []
    },
    "kernelspec": {
      "name": "python3",
      "display_name": "Python 3"
    }
  },
  "cells": [
    {
      "cell_type": "code",
      "metadata": {
        "id": "_EuvoboGuzqq",
        "colab_type": "code",
        "outputId": "e362ffc7-41f2-43d6-b9ad-2e42ce28cb52",
        "colab": {
          "base_uri": "https://localhost:8080/",
          "height": 367
        }
      },
      "source": [
        "import numpy as np\n",
        "import matplotlib.pyplot as plt\n",
        "class NeuralNetwork():\n",
        "  def __init__(self, input_size, hidden_size, output_size):\n",
        "    super(NeuralNetwork, self).__init__()\n",
        "    self.weights_input_to_hidden = np.random.random((input_size, hidden_size))\n",
        "    self.weights_hidden_to_output = np.random.random((hidden_size, output_size))\n",
        "\n",
        "  # For Task 2, change the sigmoid function to tan-h and reLU here\n",
        "  ## TASK 2 CODE STARTS HERE\n",
        "  def sigmoid(self, x, deriv = False):\n",
        "    if deriv:\n",
        "      return x * (1 - x)\n",
        "    return 1 / (1 + np.exp(-x))\n",
        "  ## TASK 2 CODE ENDS HERE\n",
        "\n",
        "  def train(self, train_x, train_y, num_epochs):\n",
        "    loss_dict = {}\n",
        "    for epoch in range(num_epochs):\n",
        "        # Forward prop\n",
        "        self.l0 = train_x\n",
        "        self.l1 = self.sigmoid(np.dot(self.l0, self.weights_input_to_hidden))\n",
        "        l2 = self.sigmoid(np.dot(self.l1, self.weights_hidden_to_output))\n",
        "\n",
        "        # Backprop\n",
        "        # Finding final and hidden layer losses\n",
        "        loss = train_y - l2\n",
        "        if epoch % 10 == 0:\n",
        "          print('Epoch {}/{} \\tLoss:{}'.format(epoch+1, num_epochs, np.mean(np.abs(loss))))\n",
        "          #plt.plot(epoch+1,np.mean(loss))\n",
        "        \n",
        "        l2_delta = loss * self.sigmoid(l2, deriv = True)\n",
        "        l1_error = l2_delta.dot(self.weights_hidden_to_output.T)\n",
        "        l1_delta = l1_error * self.sigmoid(self.l1, deriv = True)\n",
        "        \n",
        "        # Optimizing weights\n",
        "        self.weights_hidden_to_output += self.l1.T.dot(l2_delta)\n",
        "        self.weights_input_to_hidden += self.l0.T.dot(l1_delta)\n",
        "\n",
        "        # Store loss in a dictionary\n",
        "        loss_dict[epoch] = np.abs(np.mean(loss))\n",
        "    return loss_dict\n",
        "        \n",
        "  def test(self, test_x):\n",
        "    self.l0 = test_x\n",
        "    self.l1 = self.sigmoid(np.dot(self.l0, self.weights_input_to_hidden))\n",
        "    output = self.sigmoid(np.dot(self.l1, self.weights_hidden_to_output))\n",
        "    if output < 0.5:\n",
        "      return 0\n",
        "    return output\n",
        "    # Training Set\n",
        "arr_x = np.array([[0,0,0],\n",
        "                [1,1,1],\n",
        "                [1,0,0],\n",
        "                [0,0,1],\n",
        "                [1,1,0],\n",
        "                [1,0,1]])\n",
        "arr_y = np.array([[0],\n",
        "                 [1],\n",
        "                 [1],\n",
        "                 [1],\n",
        "                 [0],\n",
        "                 [0]])\n",
        "nn = NeuralNetwork(input_size=3, hidden_size = 1, output_size = 1)\n",
        "loss = nn.train(train_x = arr_x, train_y = arr_y, num_epochs = 50)\n",
        "plt.plot(list(loss.keys()),list(loss.values()))\n"
      ],
      "execution_count": 3,
      "outputs": [
        {
          "output_type": "stream",
          "text": [
            "Epoch 1/50 \tLoss:0.4959653017968892\n",
            "Epoch 11/50 \tLoss:0.49834490133306764\n",
            "Epoch 21/50 \tLoss:0.49876949853900826\n",
            "Epoch 31/50 \tLoss:0.49877069280807723\n",
            "Epoch 41/50 \tLoss:0.49868805499956964\n"
          ],
          "name": "stdout"
        },
        {
          "output_type": "execute_result",
          "data": {
            "text/plain": [
              "[<matplotlib.lines.Line2D at 0x7f239b4b0ef0>]"
            ]
          },
          "metadata": {
            "tags": []
          },
          "execution_count": 3
        },
        {
          "output_type": "display_data",
          "data": {
            "image/png": "[encoded data removed]",
            "text/plain": [
              "<Figure size 432x288 with 1 Axes>"
            ]
          },
          "metadata": {
            "tags": []
          }
        }
      ]
    },
    {
      "cell_type": "code",
      "metadata": {
        "id": "SMsqXQaeHi7Z",
        "colab_type": "code",
        "colab": {
          "base_uri": "https://localhost:8080/",
          "height": 367
        },
        "outputId": "186cb38c-e6f0-449f-c8fb-a4ab55c313af"
      },
      "source": [
        "import numpy as np\n",
        "import matplotlib.pyplot as plt\n",
        "class NeuralNetwork():\n",
        "  def __init__(self, input_size, hidden_size, output_size):\n",
        "    super(NeuralNetwork, self).__init__()\n",
        "    self.weights_input_to_hidden = np.random.random((input_size, hidden_size))\n",
        "    self.weights_hidden_to_output = np.random.random((hidden_size, output_size))\n",
        "\n",
        "  ## TASK 2 CODE STARTS HERE\n",
        "  # Rectified Linear Unit (ReLU) Function\n",
        "  def relu(self, x, deriv = False):\n",
        "    if deriv:\n",
        "      if x.any() > 0:\n",
        "        return 1\n",
        "      else:\n",
        "        return 0\n",
        "    else:\n",
        "      return x * (x > 0)\n",
        "  ## TASK 2 CODE ENDS HERE\n",
        "\n",
        "  def train(self, train_x, train_y, num_epochs):\n",
        "    loss_dict = {}\n",
        "    for epoch in range(num_epochs):\n",
        "        # Forward prop\n",
        "        self.l0 = train_x\n",
        "        self.l1 = self.relu(np.dot(self.l0, self.weights_input_to_hidden))\n",
        "        l2 = self.relu(np.dot(self.l1, self.weights_hidden_to_output))\n",
        "\n",
        "        # Backprop\n",
        "        # Finding final and hidden layer losses\n",
        "        loss = train_y - l2\n",
        "        if epoch % 1000 == 0:\n",
        "          print('Epoch {}/{} \\tLoss:{}'.format(epoch+1, num_epochs, np.mean(np.abs(loss))))\n",
        "          #plt.plot(epoch+1,np.mean(loss))\n",
        "        \n",
        "        l2_delta = loss * self.relu(l2, deriv = True)\n",
        "        l1_error = l2_delta.dot(self.weights_hidden_to_output.T)\n",
        "        l1_delta = l1_error * self.relu(self.l1, deriv = True)\n",
        "        \n",
        "        # Optimizing weights\n",
        "        self.weights_hidden_to_output += self.l1.T.dot(l2_delta)\n",
        "        self.weights_input_to_hidden += self.l0.T.dot(l1_delta)\n",
        "\n",
        "        # Store loss in a dictionary\n",
        "        loss_dict[epoch] = np.abs(np.mean(loss))\n",
        "    return loss_dict\n",
        "        \n",
        "  def test(self, test_x):\n",
        "    self.l0 = test_x\n",
        "    self.l1 = self.relu(np.dot(self.l0, self.weights_input_to_hidden))\n",
        "    output = self.relu(np.dot(self.l1, self.weights_hidden_to_output))\n",
        "    if output < 0.5:\n",
        "      return 0\n",
        "    return output\n",
        "    \n",
        "nn = NeuralNetwork(input_size=3, hidden_size = 5, output_size = 1)\n",
        "loss = nn.train(train_x = arr_x, train_y = arr_y, num_epochs = 5000)\n",
        "plt.plot(list(loss.keys()),list(loss.values()))"
      ],
      "execution_count": 15,
      "outputs": [
        {
          "output_type": "stream",
          "text": [
            "Epoch 1/5000 \tLoss:0.8956028170216523\n",
            "Epoch 1001/5000 \tLoss:0.5\n",
            "Epoch 2001/5000 \tLoss:0.5\n",
            "Epoch 3001/5000 \tLoss:0.5\n",
            "Epoch 4001/5000 \tLoss:0.5\n"
          ],
          "name": "stdout"
        },
        {
          "output_type": "execute_result",
          "data": {
            "text/plain": [
              "[<matplotlib.lines.Line2D at 0x7f239ad7e400>]"
            ]
          },
          "metadata": {
            "tags": []
          },
          "execution_count": 15
        },
        {
          "output_type": "display_data",
          "data": {
            "image/png": "[encoded data removed]",
            "text/plain": [
              "<Figure size 432x288 with 1 Axes>"
            ]
          },
          "metadata": {
            "tags": []
          }
        }
      ]
    }
  ]
}