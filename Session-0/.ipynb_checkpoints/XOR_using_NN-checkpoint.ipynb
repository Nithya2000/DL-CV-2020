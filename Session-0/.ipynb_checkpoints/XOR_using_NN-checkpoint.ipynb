{
 "cells": [
  {
   "cell_type": "code",
   "execution_count": 0,
   "metadata": {
    "colab": {},
    "colab_type": "code",
    "id": "coK2vQSrRqZ5"
   },
   "outputs": [],
   "source": [
    "import numpy as np"
   ]
  },
  {
   "cell_type": "code",
   "execution_count": 0,
   "metadata": {
    "colab": {},
    "colab_type": "code",
    "id": "V6GYUOgMR0BR"
   },
   "outputs": [],
   "source": [
    "class NeuralNetwork():\n",
    "  def __init__(self, input_size, hidden_size, output_size):\n",
    "    super(NeuralNetwork, self).__init__()\n",
    "    self.weights_input_to_hidden = np.random.random((input_size, hidden_size))\n",
    "    self.weights_hidden_to_output = np.random.random((hidden_size, output_size))\n",
    "\n",
    "  def sigmoid(self, x, deriv = False):\n",
    "    if deriv:\n",
    "      return x * (1 - x)\n",
    "    return 1 / (1 + np.exp(-x))\n",
    "\n",
    "  def train(self, train_x, train_y, num_epochs):\n",
    "    for epoch in range(num_epochs):\n",
    "        # FORWARD PROP\n",
    "        self.l0 = train_x\n",
    "        self.l1 = self.sigmoid(np.dot(self.l0, self.weights_input_to_hidden))\n",
    "        l2 = self.sigmoid(np.dot(self.l1, self.weights_hidden_to_output))\n",
    "\n",
    "        # BACKPROP STARTS HERE\n",
    "        # Finding final and hidden layer losses\n",
    "        loss = train_y - l2\n",
    "        if epoch % 1000 == 0:\n",
    "          print('Epoch {}/{} \\tLoss:{}'.format(epoch+1, num_epochs, np.mean(np.abs(loss))))\n",
    "        \n",
    "        l2_delta = loss * self.sigmoid(l2, deriv = True)\n",
    "        l1_error = l2_delta.dot(self.weights_hidden_to_output.T)\n",
    "        l1_delta = l1_error * self.sigmoid(self.l1, deriv = True)\n",
    "        \n",
    "        # Optimizing weights\n",
    "        self.weights_hidden_to_output += self.l1.T.dot(l2_delta)\n",
    "        self.weights_input_to_hidden += self.l0.T.dot(l1_delta)\n",
    "\n",
    "  def test(self, test_x):\n",
    "    self.l0 = test_x\n",
    "    self.l1 = self.sigmoid(np.dot(self.l0, self.weights_input_to_hidden))\n",
    "    output = self.sigmoid(np.dot(self.l1, self.weights_hidden_to_output))\n",
    "    if output < 0.5:\n",
    "      return 0\n",
    "    return output"
   ]
  },
  {
   "cell_type": "code",
   "execution_count": 0,
   "metadata": {
    "colab": {},
    "colab_type": "code",
    "id": "MZOmo20zR-PL"
   },
   "outputs": [],
   "source": [
    "# TRAIN DATA\n",
    "arr_x = np.array([[0,0,0],\n",
    "                [1,1,1],\n",
    "                [1,0,0],\n",
    "                [0,0,1],\n",
    "                [1,1,0],\n",
    "                [1,0,1]])\n",
    "arr_y = np.array([[0],\n",
    "                 [1],\n",
    "                 [1],\n",
    "                 [1],\n",
    "                 [0],\n",
    "                 [0]])"
   ]
  },
  {
   "cell_type": "code",
   "execution_count": 0,
   "metadata": {
    "colab": {},
    "colab_type": "code",
    "id": "qCG3LHLiSB2j"
   },
   "outputs": [],
   "source": [
    "nn = NeuralNetwork(input_size=3, hidden_size = 5, output_size = 1)\n",
    "nn.train(train_x = arr_x, train_y = arr_y, num_epochs = 10000)"
   ]
  },
  {
   "cell_type": "code",
   "execution_count": 0,
   "metadata": {
    "colab": {},
    "colab_type": "code",
    "id": "sEweBXsgSGpS"
   },
   "outputs": [],
   "source": [
    "nn.test(np.array([0,1,0]))"
   ]
  }
 ],
 "metadata": {
  "colab": {
   "collapsed_sections": [],
   "name": "Untitled2.ipynb",
   "provenance": []
  },
  "kernelspec": {
   "display_name": "Python 3",
   "language": "python",
   "name": "python3"
  },
  "language_info": {
   "codemirror_mode": {
    "name": "ipython",
    "version": 3
   },
   "file_extension": ".py",
   "mimetype": "text/x-python",
   "name": "python",
   "nbconvert_exporter": "python",
   "pygments_lexer": "ipython3",
   "version": "3.5.2"
  }
 },
 "nbformat": 4,
 "nbformat_minor": 1
}
